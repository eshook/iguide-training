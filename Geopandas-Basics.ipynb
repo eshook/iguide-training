{
 "cells": [
  {
   "cell_type": "markdown",
   "id": "f66d0568-db15-4b4b-9f25-cf1f4cd29008",
   "metadata": {
    "tags": []
   },
   "source": [
    "# I-GUIDE: Geospatial Data Science - Geopandas Basics\n",
    "This Notebook shows the basics of pandas and geopandas. \n",
    "Further information can be found here:\n",
    " * https://pandas.pydata.org/docs/getting_started/intro_tutorials/index.html\n",
    " * https://geopandas.org/en/stable/docs/user_guide/data_structures.html\n",
    " * https://iguide.illinois.edu/projects/convergence-curriculum-for-geospatial-data-science/\n",
    " \n",
    "A more advanced notebook using the same federal dam dataset that conducts a \n",
    "'Vulnerability Analysis for Aging Dam Infrastructure' can be found here:\n",
    " * https://iguide.illinois.edu/platform/discovery/"
   ]
  },
  {
   "cell_type": "markdown",
   "id": "10f2393d-4efd-40eb-a383-5e21d3782e60",
   "metadata": {
    "tags": []
   },
   "source": [
    "The following grey cells are \"Code cells\" to see the results you must run them by clicking on them and clicking the Run button (play button).\n",
    "The run button can be found in the top navigation bar."
   ]
  },
  {
   "cell_type": "markdown",
   "id": "acad16df-c660-4997-95e4-038868f1fc0f",
   "metadata": {
    "tags": []
   },
   "source": [
    "## 1. Import packages"
   ]
  },
  {
   "cell_type": "code",
   "execution_count": 1,
   "id": "e0c8a6c2-96ca-4193-90e7-48d445482c2d",
   "metadata": {
    "tags": []
   },
   "outputs": [],
   "source": [
    "import os\n",
    "os.environ['USE_PYGEOS'] = '0'\n",
    "\n",
    "import pandas as pd\n",
    "import geopandas as gpd"
   ]
  },
  {
   "cell_type": "markdown",
   "id": "96f15379-233d-405d-afe3-a49b310a01d5",
   "metadata": {
    "tags": []
   },
   "source": [
    "## 2. Explore Dams dataset"
   ]
  },
  {
   "cell_type": "code",
   "execution_count": 2,
   "id": "2c63d1d4-a1d2-4350-b04a-131295d060c1",
   "metadata": {
    "tags": []
   },
   "outputs": [],
   "source": [
    "fed_dams = pd.read_json(\"https://fim.sec.usace.army.mil/ci/fim/getAllEAPStructure\")"
   ]
  },
  {
   "cell_type": "code",
   "execution_count": 3,
   "id": "f625d96b-ec79-4bc6-8f92-7b906767869e",
   "metadata": {
    "tags": []
   },
   "outputs": [
    {
     "data": {
      "text/html": [
       "<div>\n",
       "<style scoped>\n",
       "    .dataframe tbody tr th:only-of-type {\n",
       "        vertical-align: middle;\n",
       "    }\n",
       "\n",
       "    .dataframe tbody tr th {\n",
       "        vertical-align: top;\n",
       "    }\n",
       "\n",
       "    .dataframe thead th {\n",
       "        text-align: right;\n",
       "    }\n",
       "</style>\n",
       "<table border=\"1\" class=\"dataframe\">\n",
       "  <thead>\n",
       "    <tr style=\"text-align: right;\">\n",
       "      <th></th>\n",
       "      <th>ID</th>\n",
       "      <th>LAT</th>\n",
       "      <th>LON</th>\n",
       "      <th>NAME</th>\n",
       "      <th>LIBRARY_ID</th>\n",
       "      <th>LIBRARY_TYPE</th>\n",
       "    </tr>\n",
       "  </thead>\n",
       "  <tbody>\n",
       "    <tr>\n",
       "      <th>0</th>\n",
       "      <td>MA00964</td>\n",
       "      <td>42.118328</td>\n",
       "      <td>-71.908333</td>\n",
       "      <td>BUFFUMVILLE DAM</td>\n",
       "      <td>1117</td>\n",
       "      <td>dam_study</td>\n",
       "    </tr>\n",
       "    <tr>\n",
       "      <th>1</th>\n",
       "      <td>IL00005</td>\n",
       "      <td>40.671299</td>\n",
       "      <td>-89.500504</td>\n",
       "      <td>FARMDALE DAM</td>\n",
       "      <td>1113</td>\n",
       "      <td>dam_study</td>\n",
       "    </tr>\n",
       "    <tr>\n",
       "      <th>2</th>\n",
       "      <td>GA03742S001</td>\n",
       "      <td>34.112355</td>\n",
       "      <td>-84.713096</td>\n",
       "      <td>ALLATOONA DAM - SADDLE DIKE</td>\n",
       "      <td>1000</td>\n",
       "      <td>dam_study</td>\n",
       "    </tr>\n",
       "    <tr>\n",
       "      <th>3</th>\n",
       "      <td>KS00002S001</td>\n",
       "      <td>37.291890</td>\n",
       "      <td>-95.914999</td>\n",
       "      <td>ELK CITY DAM - ELK CITY LEVEE</td>\n",
       "      <td>1144</td>\n",
       "      <td>dam_study</td>\n",
       "    </tr>\n",
       "    <tr>\n",
       "      <th>4</th>\n",
       "      <td>CT00507S001</td>\n",
       "      <td>41.625600</td>\n",
       "      <td>-73.030588</td>\n",
       "      <td>HANCOCK BROOK DAM - RAILROAD DIKE</td>\n",
       "      <td>1444</td>\n",
       "      <td>dam_study</td>\n",
       "    </tr>\n",
       "    <tr>\n",
       "      <th>...</th>\n",
       "      <td>...</td>\n",
       "      <td>...</td>\n",
       "      <td>...</td>\n",
       "      <td>...</td>\n",
       "      <td>...</td>\n",
       "      <td>...</td>\n",
       "    </tr>\n",
       "    <tr>\n",
       "      <th>464</th>\n",
       "      <td>CA10303</td>\n",
       "      <td>38.718424</td>\n",
       "      <td>-123.009620</td>\n",
       "      <td>WARM SPRINGS DAM</td>\n",
       "      <td>6807</td>\n",
       "      <td>dam_study</td>\n",
       "    </tr>\n",
       "    <tr>\n",
       "      <th>465</th>\n",
       "      <td>OH00031</td>\n",
       "      <td>41.299999</td>\n",
       "      <td>-80.758331</td>\n",
       "      <td>MOSQUITO CREEK DAM</td>\n",
       "      <td>6367</td>\n",
       "      <td>dam_study</td>\n",
       "    </tr>\n",
       "    <tr>\n",
       "      <th>466</th>\n",
       "      <td>MN00582</td>\n",
       "      <td>46.669116</td>\n",
       "      <td>-94.112818</td>\n",
       "      <td>PINE RIVER DAM</td>\n",
       "      <td>5266</td>\n",
       "      <td>dam_study</td>\n",
       "    </tr>\n",
       "    <tr>\n",
       "      <th>467</th>\n",
       "      <td>MT00025</td>\n",
       "      <td>48.002228</td>\n",
       "      <td>-106.417987</td>\n",
       "      <td>FORT PECK DAM</td>\n",
       "      <td>7988</td>\n",
       "      <td>dam_study</td>\n",
       "    </tr>\n",
       "    <tr>\n",
       "      <th>468</th>\n",
       "      <td>OH00020S004</td>\n",
       "      <td>40.740480</td>\n",
       "      <td>-82.367870</td>\n",
       "      <td>Charles Mill Dam - Dike 1</td>\n",
       "      <td>7828</td>\n",
       "      <td>dam_study</td>\n",
       "    </tr>\n",
       "  </tbody>\n",
       "</table>\n",
       "<p>469 rows × 6 columns</p>\n",
       "</div>"
      ],
      "text/plain": [
       "              ID        LAT         LON                               NAME  \\\n",
       "0        MA00964  42.118328  -71.908333                    BUFFUMVILLE DAM   \n",
       "1        IL00005  40.671299  -89.500504                       FARMDALE DAM   \n",
       "2    GA03742S001  34.112355  -84.713096        ALLATOONA DAM - SADDLE DIKE   \n",
       "3    KS00002S001  37.291890  -95.914999      ELK CITY DAM - ELK CITY LEVEE   \n",
       "4    CT00507S001  41.625600  -73.030588  HANCOCK BROOK DAM - RAILROAD DIKE   \n",
       "..           ...        ...         ...                                ...   \n",
       "464      CA10303  38.718424 -123.009620                   WARM SPRINGS DAM   \n",
       "465      OH00031  41.299999  -80.758331                 MOSQUITO CREEK DAM   \n",
       "466      MN00582  46.669116  -94.112818                     PINE RIVER DAM   \n",
       "467      MT00025  48.002228 -106.417987                      FORT PECK DAM   \n",
       "468  OH00020S004  40.740480  -82.367870          Charles Mill Dam - Dike 1   \n",
       "\n",
       "     LIBRARY_ID LIBRARY_TYPE  \n",
       "0          1117    dam_study  \n",
       "1          1113    dam_study  \n",
       "2          1000    dam_study  \n",
       "3          1144    dam_study  \n",
       "4          1444    dam_study  \n",
       "..          ...          ...  \n",
       "464        6807    dam_study  \n",
       "465        6367    dam_study  \n",
       "466        5266    dam_study  \n",
       "467        7988    dam_study  \n",
       "468        7828    dam_study  \n",
       "\n",
       "[469 rows x 6 columns]"
      ]
     },
     "execution_count": 3,
     "metadata": {},
     "output_type": "execute_result"
    }
   ],
   "source": [
    "fed_dams"
   ]
  },
  {
   "cell_type": "code",
   "execution_count": 4,
   "id": "5b900785-97f2-4345-aafe-eae6d4089b0b",
   "metadata": {
    "tags": []
   },
   "outputs": [],
   "source": [
    "geo_fed_dams = gpd.GeoDataFrame(fed_dams, geometry=gpd.points_from_xy(fed_dams['LON'], fed_dams['LAT'], crs=\"EPSG:4326\"))\n"
   ]
  },
  {
   "cell_type": "code",
   "execution_count": 5,
   "id": "edb99b14-f24d-4bbf-b62d-b91e0fe3d783",
   "metadata": {
    "tags": []
   },
   "outputs": [
    {
     "data": {
      "text/html": [
       "<div>\n",
       "<style scoped>\n",
       "    .dataframe tbody tr th:only-of-type {\n",
       "        vertical-align: middle;\n",
       "    }\n",
       "\n",
       "    .dataframe tbody tr th {\n",
       "        vertical-align: top;\n",
       "    }\n",
       "\n",
       "    .dataframe thead th {\n",
       "        text-align: right;\n",
       "    }\n",
       "</style>\n",
       "<table border=\"1\" class=\"dataframe\">\n",
       "  <thead>\n",
       "    <tr style=\"text-align: right;\">\n",
       "      <th></th>\n",
       "      <th>ID</th>\n",
       "      <th>LAT</th>\n",
       "      <th>LON</th>\n",
       "      <th>NAME</th>\n",
       "      <th>LIBRARY_ID</th>\n",
       "      <th>LIBRARY_TYPE</th>\n",
       "      <th>geometry</th>\n",
       "    </tr>\n",
       "  </thead>\n",
       "  <tbody>\n",
       "    <tr>\n",
       "      <th>0</th>\n",
       "      <td>MA00964</td>\n",
       "      <td>42.118328</td>\n",
       "      <td>-71.908333</td>\n",
       "      <td>BUFFUMVILLE DAM</td>\n",
       "      <td>1117</td>\n",
       "      <td>dam_study</td>\n",
       "      <td>POINT (-71.90833 42.11833)</td>\n",
       "    </tr>\n",
       "    <tr>\n",
       "      <th>1</th>\n",
       "      <td>IL00005</td>\n",
       "      <td>40.671299</td>\n",
       "      <td>-89.500504</td>\n",
       "      <td>FARMDALE DAM</td>\n",
       "      <td>1113</td>\n",
       "      <td>dam_study</td>\n",
       "      <td>POINT (-89.50050 40.67130)</td>\n",
       "    </tr>\n",
       "    <tr>\n",
       "      <th>2</th>\n",
       "      <td>GA03742S001</td>\n",
       "      <td>34.112355</td>\n",
       "      <td>-84.713096</td>\n",
       "      <td>ALLATOONA DAM - SADDLE DIKE</td>\n",
       "      <td>1000</td>\n",
       "      <td>dam_study</td>\n",
       "      <td>POINT (-84.71310 34.11236)</td>\n",
       "    </tr>\n",
       "    <tr>\n",
       "      <th>3</th>\n",
       "      <td>KS00002S001</td>\n",
       "      <td>37.291890</td>\n",
       "      <td>-95.914999</td>\n",
       "      <td>ELK CITY DAM - ELK CITY LEVEE</td>\n",
       "      <td>1144</td>\n",
       "      <td>dam_study</td>\n",
       "      <td>POINT (-95.91500 37.29189)</td>\n",
       "    </tr>\n",
       "    <tr>\n",
       "      <th>4</th>\n",
       "      <td>CT00507S001</td>\n",
       "      <td>41.625600</td>\n",
       "      <td>-73.030588</td>\n",
       "      <td>HANCOCK BROOK DAM - RAILROAD DIKE</td>\n",
       "      <td>1444</td>\n",
       "      <td>dam_study</td>\n",
       "      <td>POINT (-73.03059 41.62560)</td>\n",
       "    </tr>\n",
       "    <tr>\n",
       "      <th>...</th>\n",
       "      <td>...</td>\n",
       "      <td>...</td>\n",
       "      <td>...</td>\n",
       "      <td>...</td>\n",
       "      <td>...</td>\n",
       "      <td>...</td>\n",
       "      <td>...</td>\n",
       "    </tr>\n",
       "    <tr>\n",
       "      <th>464</th>\n",
       "      <td>CA10303</td>\n",
       "      <td>38.718424</td>\n",
       "      <td>-123.009620</td>\n",
       "      <td>WARM SPRINGS DAM</td>\n",
       "      <td>6807</td>\n",
       "      <td>dam_study</td>\n",
       "      <td>POINT (-123.00962 38.71842)</td>\n",
       "    </tr>\n",
       "    <tr>\n",
       "      <th>465</th>\n",
       "      <td>OH00031</td>\n",
       "      <td>41.299999</td>\n",
       "      <td>-80.758331</td>\n",
       "      <td>MOSQUITO CREEK DAM</td>\n",
       "      <td>6367</td>\n",
       "      <td>dam_study</td>\n",
       "      <td>POINT (-80.75833 41.30000)</td>\n",
       "    </tr>\n",
       "    <tr>\n",
       "      <th>466</th>\n",
       "      <td>MN00582</td>\n",
       "      <td>46.669116</td>\n",
       "      <td>-94.112818</td>\n",
       "      <td>PINE RIVER DAM</td>\n",
       "      <td>5266</td>\n",
       "      <td>dam_study</td>\n",
       "      <td>POINT (-94.11282 46.66912)</td>\n",
       "    </tr>\n",
       "    <tr>\n",
       "      <th>467</th>\n",
       "      <td>MT00025</td>\n",
       "      <td>48.002228</td>\n",
       "      <td>-106.417987</td>\n",
       "      <td>FORT PECK DAM</td>\n",
       "      <td>7988</td>\n",
       "      <td>dam_study</td>\n",
       "      <td>POINT (-106.41799 48.00223)</td>\n",
       "    </tr>\n",
       "    <tr>\n",
       "      <th>468</th>\n",
       "      <td>OH00020S004</td>\n",
       "      <td>40.740480</td>\n",
       "      <td>-82.367870</td>\n",
       "      <td>Charles Mill Dam - Dike 1</td>\n",
       "      <td>7828</td>\n",
       "      <td>dam_study</td>\n",
       "      <td>POINT (-82.36787 40.74048)</td>\n",
       "    </tr>\n",
       "  </tbody>\n",
       "</table>\n",
       "<p>469 rows × 7 columns</p>\n",
       "</div>"
      ],
      "text/plain": [
       "              ID        LAT         LON                               NAME  \\\n",
       "0        MA00964  42.118328  -71.908333                    BUFFUMVILLE DAM   \n",
       "1        IL00005  40.671299  -89.500504                       FARMDALE DAM   \n",
       "2    GA03742S001  34.112355  -84.713096        ALLATOONA DAM - SADDLE DIKE   \n",
       "3    KS00002S001  37.291890  -95.914999      ELK CITY DAM - ELK CITY LEVEE   \n",
       "4    CT00507S001  41.625600  -73.030588  HANCOCK BROOK DAM - RAILROAD DIKE   \n",
       "..           ...        ...         ...                                ...   \n",
       "464      CA10303  38.718424 -123.009620                   WARM SPRINGS DAM   \n",
       "465      OH00031  41.299999  -80.758331                 MOSQUITO CREEK DAM   \n",
       "466      MN00582  46.669116  -94.112818                     PINE RIVER DAM   \n",
       "467      MT00025  48.002228 -106.417987                      FORT PECK DAM   \n",
       "468  OH00020S004  40.740480  -82.367870          Charles Mill Dam - Dike 1   \n",
       "\n",
       "     LIBRARY_ID LIBRARY_TYPE                     geometry  \n",
       "0          1117    dam_study   POINT (-71.90833 42.11833)  \n",
       "1          1113    dam_study   POINT (-89.50050 40.67130)  \n",
       "2          1000    dam_study   POINT (-84.71310 34.11236)  \n",
       "3          1144    dam_study   POINT (-95.91500 37.29189)  \n",
       "4          1444    dam_study   POINT (-73.03059 41.62560)  \n",
       "..          ...          ...                          ...  \n",
       "464        6807    dam_study  POINT (-123.00962 38.71842)  \n",
       "465        6367    dam_study   POINT (-80.75833 41.30000)  \n",
       "466        5266    dam_study   POINT (-94.11282 46.66912)  \n",
       "467        7988    dam_study  POINT (-106.41799 48.00223)  \n",
       "468        7828    dam_study   POINT (-82.36787 40.74048)  \n",
       "\n",
       "[469 rows x 7 columns]"
      ]
     },
     "execution_count": 5,
     "metadata": {},
     "output_type": "execute_result"
    }
   ],
   "source": [
    "geo_fed_dams"
   ]
  },
  {
   "cell_type": "code",
   "execution_count": 6,
   "id": "cb0a8708-d8ec-49ff-a235-29a9566f6869",
   "metadata": {
    "tags": []
   },
   "outputs": [
    {
     "data": {
      "text/plain": [
       "<Axes: >"
      ]
     },
     "execution_count": 6,
     "metadata": {},
     "output_type": "execute_result"
    },
    {
     "data": {
      "image/png": "[encoded data removed]",
      "text/plain": [
       "<Figure size 640x480 with 1 Axes>"
      ]
     },
     "metadata": {},
     "output_type": "display_data"
    }
   ],
   "source": [
    "geo_fed_dams.plot()"
   ]
  },
  {
   "cell_type": "markdown",
   "id": "cfb4e953-b080-47ed-8990-6d7a7e8a10db",
   "metadata": {
    "tags": []
   },
   "source": [
    "## 3. Explore US Census Tract dataset"
   ]
  },
  {
   "cell_type": "code",
   "execution_count": 7,
   "id": "eba442d8-3430-410e-9f57-9f5754f1b3ee",
   "metadata": {
    "tags": []
   },
   "outputs": [],
   "source": [
    "# Credit: https://pygis.io/docs/d_access_census.html\n",
    "mn_tract = gpd.read_file(\"https://www2.census.gov/geo/tiger/TIGER2019/TRACT/tl_2019_27_tract.zip\")\n",
    "\n",
    "mn_tract = mn_tract.to_crs(epsg = 4326)"
   ]
  },
  {
   "cell_type": "code",
   "execution_count": 8,
   "id": "28654a46-91a6-443e-8980-366d177428d4",
   "metadata": {
    "tags": []
   },
   "outputs": [
    {
     "data": {
      "text/html": [
       "<div>\n",
       "<style scoped>\n",
       "    .dataframe tbody tr th:only-of-type {\n",
       "        vertical-align: middle;\n",
       "    }\n",
       "\n",
       "    .dataframe tbody tr th {\n",
       "        vertical-align: top;\n",
       "    }\n",
       "\n",
       "    .dataframe thead th {\n",
       "        text-align: right;\n",
       "    }\n",
       "</style>\n",
       "<table border=\"1\" class=\"dataframe\">\n",
       "  <thead>\n",
       "    <tr style=\"text-align: right;\">\n",
       "      <th></th>\n",
       "      <th>STATEFP</th>\n",
       "      <th>COUNTYFP</th>\n",
       "      <th>TRACTCE</th>\n",
       "      <th>GEOID</th>\n",
       "      <th>NAME</th>\n",
       "      <th>NAMELSAD</th>\n",
       "      <th>MTFCC</th>\n",
       "      <th>FUNCSTAT</th>\n",
       "      <th>ALAND</th>\n",
       "      <th>AWATER</th>\n",
       "      <th>INTPTLAT</th>\n",
       "      <th>INTPTLON</th>\n",
       "      <th>geometry</th>\n",
       "    </tr>\n",
       "  </thead>\n",
       "  <tbody>\n",
       "    <tr>\n",
       "      <th>0</th>\n",
       "      <td>27</td>\n",
       "      <td>037</td>\n",
       "      <td>060716</td>\n",
       "      <td>27037060716</td>\n",
       "      <td>607.16</td>\n",
       "      <td>Census Tract 607.16</td>\n",
       "      <td>G5020</td>\n",
       "      <td>S</td>\n",
       "      <td>3782370</td>\n",
       "      <td>293049</td>\n",
       "      <td>+44.8242729</td>\n",
       "      <td>-093.1831161</td>\n",
       "      <td>POLYGON ((-93.19843 44.82719, -93.19711 44.828...</td>\n",
       "    </tr>\n",
       "    <tr>\n",
       "      <th>1</th>\n",
       "      <td>27</td>\n",
       "      <td>037</td>\n",
       "      <td>060717</td>\n",
       "      <td>27037060717</td>\n",
       "      <td>607.17</td>\n",
       "      <td>Census Tract 607.17</td>\n",
       "      <td>G5020</td>\n",
       "      <td>S</td>\n",
       "      <td>11760284</td>\n",
       "      <td>545256</td>\n",
       "      <td>+44.8465754</td>\n",
       "      <td>-093.1305462</td>\n",
       "      <td>POLYGON ((-93.16410 44.83360, -93.16134 44.837...</td>\n",
       "    </tr>\n",
       "    <tr>\n",
       "      <th>2</th>\n",
       "      <td>27</td>\n",
       "      <td>037</td>\n",
       "      <td>060710</td>\n",
       "      <td>27037060710</td>\n",
       "      <td>607.10</td>\n",
       "      <td>Census Tract 607.10</td>\n",
       "      <td>G5020</td>\n",
       "      <td>S</td>\n",
       "      <td>10212239</td>\n",
       "      <td>358264</td>\n",
       "      <td>+44.7779970</td>\n",
       "      <td>-093.3059622</td>\n",
       "      <td>POLYGON ((-93.32978 44.77802, -93.32967 44.778...</td>\n",
       "    </tr>\n",
       "    <tr>\n",
       "      <th>3</th>\n",
       "      <td>27</td>\n",
       "      <td>037</td>\n",
       "      <td>060711</td>\n",
       "      <td>27037060711</td>\n",
       "      <td>607.11</td>\n",
       "      <td>Census Tract 607.11</td>\n",
       "      <td>G5020</td>\n",
       "      <td>S</td>\n",
       "      <td>3572710</td>\n",
       "      <td>30615</td>\n",
       "      <td>+44.7582405</td>\n",
       "      <td>-093.2810093</td>\n",
       "      <td>POLYGON ((-93.28919 44.76077, -93.28894 44.765...</td>\n",
       "    </tr>\n",
       "    <tr>\n",
       "      <th>4</th>\n",
       "      <td>27</td>\n",
       "      <td>037</td>\n",
       "      <td>060713</td>\n",
       "      <td>27037060713</td>\n",
       "      <td>607.13</td>\n",
       "      <td>Census Tract 607.13</td>\n",
       "      <td>G5020</td>\n",
       "      <td>S</td>\n",
       "      <td>2840388</td>\n",
       "      <td>54332</td>\n",
       "      <td>+44.7602474</td>\n",
       "      <td>-093.2664153</td>\n",
       "      <td>POLYGON ((-93.27809 44.75544, -93.27778 44.755...</td>\n",
       "    </tr>\n",
       "    <tr>\n",
       "      <th>...</th>\n",
       "      <td>...</td>\n",
       "      <td>...</td>\n",
       "      <td>...</td>\n",
       "      <td>...</td>\n",
       "      <td>...</td>\n",
       "      <td>...</td>\n",
       "      <td>...</td>\n",
       "      <td>...</td>\n",
       "      <td>...</td>\n",
       "      <td>...</td>\n",
       "      <td>...</td>\n",
       "      <td>...</td>\n",
       "      <td>...</td>\n",
       "    </tr>\n",
       "    <tr>\n",
       "      <th>1333</th>\n",
       "      <td>27</td>\n",
       "      <td>029</td>\n",
       "      <td>000100</td>\n",
       "      <td>27029000100</td>\n",
       "      <td>1</td>\n",
       "      <td>Census Tract 1</td>\n",
       "      <td>G5020</td>\n",
       "      <td>S</td>\n",
       "      <td>174180017</td>\n",
       "      <td>2869815</td>\n",
       "      <td>+47.5581793</td>\n",
       "      <td>-095.4580235</td>\n",
       "      <td>POLYGON ((-95.55422 47.50033, -95.55382 47.507...</td>\n",
       "    </tr>\n",
       "    <tr>\n",
       "      <th>1334</th>\n",
       "      <td>27</td>\n",
       "      <td>037</td>\n",
       "      <td>060709</td>\n",
       "      <td>27037060709</td>\n",
       "      <td>607.09</td>\n",
       "      <td>Census Tract 607.09</td>\n",
       "      <td>G5020</td>\n",
       "      <td>S</td>\n",
       "      <td>3773616</td>\n",
       "      <td>211132</td>\n",
       "      <td>+44.7590705</td>\n",
       "      <td>-093.3168753</td>\n",
       "      <td>POLYGON ((-93.32873 44.76118, -93.32873 44.761...</td>\n",
       "    </tr>\n",
       "    <tr>\n",
       "      <th>1335</th>\n",
       "      <td>27</td>\n",
       "      <td>021</td>\n",
       "      <td>960302</td>\n",
       "      <td>27021960302</td>\n",
       "      <td>9603.02</td>\n",
       "      <td>Census Tract 9603.02</td>\n",
       "      <td>G5020</td>\n",
       "      <td>S</td>\n",
       "      <td>152737466</td>\n",
       "      <td>33891035</td>\n",
       "      <td>+46.8999754</td>\n",
       "      <td>-094.3519257</td>\n",
       "      <td>POLYGON ((-94.50222 46.84191, -94.50219 46.848...</td>\n",
       "    </tr>\n",
       "    <tr>\n",
       "      <th>1336</th>\n",
       "      <td>27</td>\n",
       "      <td>021</td>\n",
       "      <td>960801</td>\n",
       "      <td>27021960801</td>\n",
       "      <td>9608.01</td>\n",
       "      <td>Census Tract 9608.01</td>\n",
       "      <td>G5020</td>\n",
       "      <td>S</td>\n",
       "      <td>90227986</td>\n",
       "      <td>38283033</td>\n",
       "      <td>+46.3718070</td>\n",
       "      <td>-094.3757989</td>\n",
       "      <td>POLYGON ((-94.45657 46.35111, -94.45654 46.351...</td>\n",
       "    </tr>\n",
       "    <tr>\n",
       "      <th>1337</th>\n",
       "      <td>27</td>\n",
       "      <td>037</td>\n",
       "      <td>060604</td>\n",
       "      <td>27037060604</td>\n",
       "      <td>606.04</td>\n",
       "      <td>Census Tract 606.04</td>\n",
       "      <td>G5020</td>\n",
       "      <td>S</td>\n",
       "      <td>4551147</td>\n",
       "      <td>296014</td>\n",
       "      <td>+44.8897427</td>\n",
       "      <td>-093.1444899</td>\n",
       "      <td>POLYGON ((-93.17913 44.88834, -93.17904 44.888...</td>\n",
       "    </tr>\n",
       "  </tbody>\n",
       "</table>\n",
       "<p>1338 rows × 13 columns</p>\n",
       "</div>"
      ],
      "text/plain": [
       "     STATEFP COUNTYFP TRACTCE        GEOID     NAME              NAMELSAD  \\\n",
       "0         27      037  060716  27037060716   607.16   Census Tract 607.16   \n",
       "1         27      037  060717  27037060717   607.17   Census Tract 607.17   \n",
       "2         27      037  060710  27037060710   607.10   Census Tract 607.10   \n",
       "3         27      037  060711  27037060711   607.11   Census Tract 607.11   \n",
       "4         27      037  060713  27037060713   607.13   Census Tract 607.13   \n",
       "...      ...      ...     ...          ...      ...                   ...   \n",
       "1333      27      029  000100  27029000100        1        Census Tract 1   \n",
       "1334      27      037  060709  27037060709   607.09   Census Tract 607.09   \n",
       "1335      27      021  960302  27021960302  9603.02  Census Tract 9603.02   \n",
       "1336      27      021  960801  27021960801  9608.01  Census Tract 9608.01   \n",
       "1337      27      037  060604  27037060604   606.04   Census Tract 606.04   \n",
       "\n",
       "      MTFCC FUNCSTAT      ALAND    AWATER     INTPTLAT      INTPTLON  \\\n",
       "0     G5020        S    3782370    293049  +44.8242729  -093.1831161   \n",
       "1     G5020        S   11760284    545256  +44.8465754  -093.1305462   \n",
       "2     G5020        S   10212239    358264  +44.7779970  -093.3059622   \n",
       "3     G5020        S    3572710     30615  +44.7582405  -093.2810093   \n",
       "4     G5020        S    2840388     54332  +44.7602474  -093.2664153   \n",
       "...     ...      ...        ...       ...          ...           ...   \n",
       "1333  G5020        S  174180017   2869815  +47.5581793  -095.4580235   \n",
       "1334  G5020        S    3773616    211132  +44.7590705  -093.3168753   \n",
       "1335  G5020        S  152737466  33891035  +46.8999754  -094.3519257   \n",
       "1336  G5020        S   90227986  38283033  +46.3718070  -094.3757989   \n",
       "1337  G5020        S    4551147    296014  +44.8897427  -093.1444899   \n",
       "\n",
       "                                               geometry  \n",
       "0     POLYGON ((-93.19843 44.82719, -93.19711 44.828...  \n",
       "1     POLYGON ((-93.16410 44.83360, -93.16134 44.837...  \n",
       "2     POLYGON ((-93.32978 44.77802, -93.32967 44.778...  \n",
       "3     POLYGON ((-93.28919 44.76077, -93.28894 44.765...  \n",
       "4     POLYGON ((-93.27809 44.75544, -93.27778 44.755...  \n",
       "...                                                 ...  \n",
       "1333  POLYGON ((-95.55422 47.50033, -95.55382 47.507...  \n",
       "1334  POLYGON ((-93.32873 44.76118, -93.32873 44.761...  \n",
       "1335  POLYGON ((-94.50222 46.84191, -94.50219 46.848...  \n",
       "1336  POLYGON ((-94.45657 46.35111, -94.45654 46.351...  \n",
       "1337  POLYGON ((-93.17913 44.88834, -93.17904 44.888...  \n",
       "\n",
       "[1338 rows x 13 columns]"
      ]
     },
     "execution_count": 8,
     "metadata": {},
     "output_type": "execute_result"
    }
   ],
   "source": [
    "mn_tract"
   ]
  },
  {
   "cell_type": "code",
   "execution_count": 9,
   "id": "b83734ae-1049-49f9-8f20-3926f8c3dcc2",
   "metadata": {
    "tags": []
   },
   "outputs": [
    {
     "data": {
      "text/plain": [
       "<Axes: >"
      ]
     },
     "execution_count": 9,
     "metadata": {},
     "output_type": "execute_result"
    },
    {
     "data": {
      "image/png": "[encoded data removed]",
      "text/plain": [
       "<Figure size 640x480 with 1 Axes>"
      ]
     },
     "metadata": {},
     "output_type": "display_data"
    }
   ],
   "source": [
    "mn_tract.plot()"
   ]
  },
  {
   "cell_type": "code",
   "execution_count": 10,
   "id": "0392b866-e6c2-483c-9a77-75feafd9f672",
   "metadata": {
    "tags": []
   },
   "outputs": [
    {
     "data": {
      "text/plain": [
       "<Axes: >"
      ]
     },
     "execution_count": 10,
     "metadata": {},
     "output_type": "execute_result"
    },
    {
     "data": {
      "image/png": "[encoded data removed]",
      "text/plain": [
       "<Figure size 640x480 with 1 Axes>"
      ]
     },
     "metadata": {},
     "output_type": "display_data"
    }
   ],
   "source": [
    "mn = mn_tract.dissolve()"
   ]
  },
  {
   "cell_type": "code",
   "execution_count": null,
   "id": "9bcff9cd-70ec-44a7-92ee-92a53266016f",
   "metadata": {},
   "outputs": [],
   "source": [
    "mn.plot()"
   ]
  },
  {
   "cell_type": "code",
   "execution_count": 16,
   "id": "be43712e-755e-4a5a-9753-e0975f327bc6",
   "metadata": {
    "tags": []
   },
   "outputs": [
    {
     "ename": "SyntaxError",
     "evalue": "invalid syntax (2342976767.py, line 2)",
     "output_type": "error",
     "traceback": [
      "\u001b[0;36m  Cell \u001b[0;32mIn[16], line 2\u001b[0;36m\u001b[0m\n\u001b[0;31m    Go to the documentation: https://geopandas.org/en/stable/docs/user_guide/data_structures.html\u001b[0m\n\u001b[0m       ^\u001b[0m\n\u001b[0;31mSyntaxError\u001b[0m\u001b[0;31m:\u001b[0m invalid syntax\n"
     ]
    }
   ],
   "source": [
    "## 4. You explore.\n",
    "Go to the documentation: https://geopandas.org/en/stable/docs/user_guide/data_structures.html"
   ]
  },
  {
   "cell_type": "code",
   "execution_count": 11,
   "id": "28589e44-f18b-4384-912a-b02a4a3e58bd",
   "metadata": {
    "tags": []
   },
   "outputs": [
    {
     "name": "stderr",
     "output_type": "stream",
     "text": [
      "/tmp/ipykernel_763/379541566.py:1: UserWarning: Geometry is in a geographic CRS. Results from 'centroid' are likely incorrect. Use 'GeoSeries.to_crs()' to re-project geometries to a projected CRS before this operation.\n",
      "\n",
      "  mn.centroid\n"
     ]
    },
    {
     "data": {
      "text/plain": [
       "0    POINT (-94.19835 46.34929)\n",
       "dtype: geometry"
      ]
     },
     "execution_count": 11,
     "metadata": {},
     "output_type": "execute_result"
    }
   ],
   "source": [
    "mn.centroid"
   ]
  }
 ],
 "metadata": {
  "kernelspec": {
   "display_name": "Python [conda env:iguide-ewd]",
   "language": "python",
   "name": "conda-env-iguide-ewd-py"
  },
  "language_info": {
   "codemirror_mode": {
    "name": "ipython",
    "version": 3
   },
   "file_extension": ".py",
   "mimetype": "text/x-python",
   "name": "python",
   "nbconvert_exporter": "python",
   "pygments_lexer": "ipython3",
   "version": "3.10.9"
  }
 },
 "nbformat": 4,
 "nbformat_minor": 5
}
