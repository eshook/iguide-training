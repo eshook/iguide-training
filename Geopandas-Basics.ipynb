{
 "cells": [
  {
   "cell_type": "markdown",
   "id": "f66d0568-db15-4b4b-9f25-cf1f4cd29008",
   "metadata": {
    "tags": []
   },
   "source": [
    "# I-GUIDE: Geospatial Data Science - Geopandas Basics\n",
    "This Notebook shows the basics of pandas and geopandas. \n",
    "Further information can be found here:\n",
    " * https://pandas.pydata.org/docs/getting_started/intro_tutorials/index.html\n",
    " * https://geopandas.org/en/stable/docs/user_guide/data_structures.html\n",
    " * https://iguide.illinois.edu/projects/convergence-curriculum-for-geospatial-data-science/\n",
    " \n",
    "A more advanced notebook using the same federal dam dataset that conducts a \n",
    "'Vulnerability Analysis for Aging Dam Infrastructure' can be found here:\n",
    " * https://iguide.illinois.edu/platform/discovery/"
   ]
  },
  {
   "cell_type": "markdown",
   "id": "10f2393d-4efd-40eb-a383-5e21d3782e60",
   "metadata": {
    "tags": []
   },
   "source": [
    "The following grey cells are \"Code cells\" to see the results you must run them by clicking on them and clicking the Run button (play button).\n",
    "The run button can be found in the top navigation bar."
   ]
  },
  {
   "cell_type": "markdown",
   "id": "acad16df-c660-4997-95e4-038868f1fc0f",
   "metadata": {
    "tags": []
   },
   "source": [
    "## 1. Import packages"
   ]
  },
  {
   "cell_type": "code",
   "execution_count": null,
   "id": "e0c8a6c2-96ca-4193-90e7-48d445482c2d",
   "metadata": {
    "tags": []
   },
   "outputs": [],
   "source": [
    "import os\n",
    "os.environ['USE_PYGEOS'] = '0'\n",
    "\n",
    "import pandas as pd\n",
    "import geopandas as gpd"
   ]
  },
  {
   "cell_type": "markdown",
   "id": "96f15379-233d-405d-afe3-a49b310a01d5",
   "metadata": {
    "tags": []
   },
   "source": [
    "## 2. Explore Dams dataset"
   ]
  },
  {
   "cell_type": "code",
   "execution_count": null,
   "id": "2c63d1d4-a1d2-4350-b04a-131295d060c1",
   "metadata": {
    "tags": []
   },
   "outputs": [],
   "source": [
    "fed_dams = pd.read_json(\"https://fim.sec.usace.army.mil/ci/fim/getAllEAPStructure\")"
   ]
  },
  {
   "cell_type": "code",
   "execution_count": null,
   "id": "f625d96b-ec79-4bc6-8f92-7b906767869e",
   "metadata": {
    "tags": []
   },
   "outputs": [],
   "source": [
    "fed_dams"
   ]
  },
  {
   "cell_type": "code",
   "execution_count": null,
   "id": "5b900785-97f2-4345-aafe-eae6d4089b0b",
   "metadata": {
    "tags": []
   },
   "outputs": [],
   "source": [
    "geo_fed_dams = gpd.GeoDataFrame(fed_dams, geometry=gpd.points_from_xy(fed_dams['LON'], fed_dams['LAT'], crs=\"EPSG:4326\"))\n"
   ]
  },
  {
   "cell_type": "code",
   "execution_count": null,
   "id": "edb99b14-f24d-4bbf-b62d-b91e0fe3d783",
   "metadata": {
    "tags": []
   },
   "outputs": [],
   "source": [
    "geo_fed_dams"
   ]
  },
  {
   "cell_type": "code",
   "execution_count": null,
   "id": "cb0a8708-d8ec-49ff-a235-29a9566f6869",
   "metadata": {
    "tags": []
   },
   "outputs": [],
   "source": [
    "geo_fed_dams.plot()"
   ]
  },
  {
   "cell_type": "markdown",
   "id": "cfb4e953-b080-47ed-8990-6d7a7e8a10db",
   "metadata": {
    "tags": []
   },
   "source": [
    "## 3. Explore US Census Tract dataset"
   ]
  },
  {
   "cell_type": "code",
   "execution_count": null,
   "id": "eba442d8-3430-410e-9f57-9f5754f1b3ee",
   "metadata": {
    "tags": []
   },
   "outputs": [],
   "source": [
    "# Credit: https://pygis.io/docs/d_access_census.html\n",
    "mn_tract = gpd.read_file(\"https://www2.census.gov/geo/tiger/TIGER2019/TRACT/tl_2019_27_tract.zip\")\n",
    "\n",
    "mn_tract = mn_tract.to_crs(epsg = 4326)"
   ]
  },
  {
   "cell_type": "code",
   "execution_count": null,
   "id": "28654a46-91a6-443e-8980-366d177428d4",
   "metadata": {
    "tags": []
   },
   "outputs": [],
   "source": [
    "mn_tract"
   ]
  },
  {
   "cell_type": "code",
   "execution_count": null,
   "id": "b83734ae-1049-49f9-8f20-3926f8c3dcc2",
   "metadata": {
    "tags": []
   },
   "outputs": [],
   "source": [
    "mn_tract.plot()"
   ]
  },
  {
   "cell_type": "code",
   "execution_count": null,
   "id": "0392b866-e6c2-483c-9a77-75feafd9f672",
   "metadata": {
    "tags": []
   },
   "outputs": [],
   "source": [
    "mn = mn_tract.dissolve()"
   ]
  },
  {
   "cell_type": "code",
   "execution_count": null,
   "id": "9bcff9cd-70ec-44a7-92ee-92a53266016f",
   "metadata": {},
   "outputs": [],
   "source": [
    "mn.plot()"
   ]
  },
  {
   "cell_type": "markdown",
   "id": "973c01dd-db8b-4f41-a5e3-c6c54499edb2",
   "metadata": {
    "tags": []
   },
   "source": [
    "## 4. You explore.\n",
    "Go to the documentation: https://geopandas.org/en/stable/docs/user_guide/data_structures.html\n",
    "\n",
    "Try some methods yourself. Here is one example:"
   ]
  },
  {
   "cell_type": "code",
   "execution_count": null,
   "id": "28589e44-f18b-4384-912a-b02a4a3e58bd",
   "metadata": {
    "tags": []
   },
   "outputs": [],
   "source": [
    "mn.centroid"
   ]
  }
 ],
 "metadata": {
  "kernelspec": {
   "display_name": "Python [conda env:iguide-ewd]",
   "language": "python",
   "name": "conda-env-iguide-ewd-py"
  },
  "language_info": {
   "codemirror_mode": {
    "name": "ipython",
    "version": 3
   },
   "file_extension": ".py",
   "mimetype": "text/x-python",
   "name": "python",
   "nbconvert_exporter": "python",
   "pygments_lexer": "ipython3",
   "version": "3.10.9"
  }
 },
 "nbformat": 4,
 "nbformat_minor": 5
}
